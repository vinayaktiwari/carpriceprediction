{
 "cells": [
  {
   "cell_type": "code",
   "execution_count": 6,
   "metadata": {},
   "outputs": [],
   "source": [
    "def car(a):\n",
    "    l = []\n",
    "    for i in a:\n",
    "        if i%2 ==0  i%4 == 0:\n",
    "            l.append(2)\n",
    "        else:\n",
    "            l.append(0)\n",
    "    return l\n"
   ]
  },
  {
   "cell_type": "code",
   "execution_count": 7,
   "metadata": {},
   "outputs": [
    {
     "data": {
      "text/plain": [
       "[0, 0, 0]"
      ]
     },
     "execution_count": 7,
     "metadata": {},
     "output_type": "execute_result"
    }
   ],
   "source": [
    "car([6,3,2])"
   ]
  },
  {
   "cell_type": "code",
   "execution_count": 8,
   "metadata": {},
   "outputs": [
    {
     "name": "stdout",
     "output_type": "stream",
     "text": [
      " Volume in drive C is OS\n",
      " Volume Serial Number is AA45-2736\n",
      "\n",
      " Directory of C:\\Users\\DELL\\OneDrive\\Desktop\\car_price_pred\n",
      "\n",
      "09-10-2021  19:11    <DIR>          .\n",
      "09-10-2021  19:11    <DIR>          ..\n",
      "09-10-2021  19:00    <DIR>          .ipynb_checkpoints\n",
      "07-08-2021  13:05             2,019 app.py\n",
      "06-08-2021  21:48            17,209 car data.csv\n",
      "07-08-2021  15:44                31 Procfile.txt\n",
      "07-08-2021  12:11               328 requirements.txt\n",
      "11-09-2021  20:41         1,485,486 rf_reg_model.pkl\n",
      "07-08-2021  12:31    <DIR>          templates\n",
      "07-10-2021  15:10           135,392 Untitled.ipynb\n",
      "09-10-2021  19:11             1,192 Untitled1.ipynb\n",
      "               7 File(s)      1,641,657 bytes\n",
      "               4 Dir(s)  59,966,185,472 bytes free\n"
     ]
    }
   ],
   "source": [
    "ls"
   ]
  },
  {
   "cell_type": "code",
   "execution_count": null,
   "metadata": {},
   "outputs": [],
   "source": []
  }
 ],
 "metadata": {
  "kernelspec": {
   "display_name": "Python 3",
   "language": "python",
   "name": "python3"
  },
  "language_info": {
   "codemirror_mode": {
    "name": "ipython",
    "version": 3
   },
   "file_extension": ".py",
   "mimetype": "text/x-python",
   "name": "python",
   "nbconvert_exporter": "python",
   "pygments_lexer": "ipython3",
   "version": "3.8.5"
  }
 },
 "nbformat": 4,
 "nbformat_minor": 4
}
